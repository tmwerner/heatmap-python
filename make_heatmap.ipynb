{
 "cells": [
  {
   "cell_type": "code",
   "execution_count": null,
   "id": "4c422c5b-c19b-43b8-be8b-cb31950d0232",
   "metadata": {},
   "outputs": [],
   "source": [
    "# We need this for creating directories\\\n",
    "import os\n",
    "from pathlib import Path\n",
    "\n",
    "# For session info\n",
    "import session_info\n",
    "\n",
    "# We need this for downloading data from refine.bio\n",
    "import pyrefinebio\n",
    "\n",
    "# We will use these for manipulating our data\n",
    "import statistics\n",
    "import pandas as pd\n",
    "import numpy as np\n",
    "import random\n",
    "\n",
    "# We will use this for making the heatmap and these for the color codes\n",
    "import seaborn as sns\n",
    "sns.set_theme(color_codes=True)\n",
    "\n",
    "# Import custom color key function\n",
    "import util.color_key as color_key\n",
    "\n",
    "import matplotlib.pyplot as plt"
   ]
  },
  {
   "cell_type": "code",
   "execution_count": null,
   "id": "4b335944-94a6-4c7e-8fb9-225f908373e1",
   "metadata": {},
   "outputs": [],
   "source": [
    "random.seed(1234)"
   ]
  },
  {
   "cell_type": "code",
   "execution_count": null,
   "id": "36510af4-0272-4793-a7f2-6413d13ccd60",
   "metadata": {},
   "outputs": [],
   "source": [
    "dirnames = [\"data\", \"results\", \"plots\"]\n",
    "\n",
    "for dirname in dirnames:\n",
    "    if not os.path.isdir(dirname):\n",
    "        os.mkdir(dirname)"
   ]
  },
  {
   "cell_type": "code",
   "execution_count": null,
   "id": "b9973b03-298d-4b55-87c6-b25649652281",
   "metadata": {},
   "outputs": [],
   "source": [
    "id = \"SRP070849\""
   ]
  },
  {
   "cell_type": "code",
   "execution_count": null,
   "id": "7fb2a717-a2bf-450f-a239-b10181366302",
   "metadata": {},
   "outputs": [],
   "source": [
    "data_dir = Path(f\"data/{id}\")\n",
    "data_file = data_dir.joinpath(f\"{id}.tsv\")\n",
    "metadata_file = data_dir.joinpath(f\"metadata_{id}.tsv\")"
   ]
  },
  {
   "cell_type": "code",
   "execution_count": null,
   "id": "9a39e3ed-dde0-4493-a72c-8a143ade7638",
   "metadata": {},
   "outputs": [],
   "source": [
    "if not data_file.exists() or not metadata_file.exists():\n",
    "    print(f\"Downloading {id} from refine.bio\")\n",
    "    pyrefinebio.create_token(agree_to_terms=True, save_token=False)\n",
    "    pyrefinebio.download_dataset(\n",
    "        data_dir.joinpath(\"dataset.zip\"),\n",
    "        \"cansav09@gmail.com\",\n",
    "        experiments=[f\"{id}\"],\n",
    "        extract=True,\n",
    "    )"
   ]
  },
  {
   "cell_type": "code",
   "execution_count": null,
   "id": "d8aef963-541e-4d2e-ae4a-6549c87d38d7",
   "metadata": {},
   "outputs": [],
   "source": [
    "metadata = pd.read_csv(metadata_file, sep=\"\\t\")"
   ]
  },
  {
   "cell_type": "code",
   "execution_count": null,
   "id": "b621b4ec-70e8-4098-9915-52d7522bd843",
   "metadata": {},
   "outputs": [],
   "source": [
    "expression_df = pd.read_csv(data_file, sep=\"\\t\")"
   ]
  },
  {
   "cell_type": "code",
   "execution_count": null,
   "id": "f79d3511-edbb-4824-a0c9-9bc62282fda4",
   "metadata": {},
   "outputs": [],
   "source": [
    "expression_df.set_index(\"Gene\", inplace=True)"
   ]
  },
  {
   "cell_type": "code",
   "execution_count": null,
   "id": "60fc6616-791b-47e1-ae8d-7612737fa853",
   "metadata": {},
   "outputs": [],
   "source": [
    "metadata.head(5)"
   ]
  },
  {
   "cell_type": "code",
   "execution_count": null,
   "id": "7866b606-1944-4d6e-8e3a-421c78c92d19",
   "metadata": {},
   "outputs": [],
   "source": [
    "print(metadata[\"refinebio_accession_code\"].tolist() == expression_df.columns.tolist())"
   ]
  },
  {
   "cell_type": "code",
   "execution_count": null,
   "id": "0d53f6e7-7d23-41d3-95b6-47a1d341eacb",
   "metadata": {},
   "outputs": [],
   "source": [
    "# Calculate the variance for each gene\n",
    "expression_df[\"variance\"] = expression_df.var(axis=1, skipna=True)\n",
    "\n",
    "# Find the upper quartile for these data\n",
    "upper_quartile = expression_df[\"variance\"].quantile([0.90]).values\n",
    "\n",
    "# Filter the data choosing only genes whose variances are in the upper quartile\n",
    "df_by_var = expression_df[expression_df.variance > float(upper_quartile)]\n",
    "\n",
    "# Drop the variance column we calculated\n",
    "df_by_var = df_by_var.drop(columns=\"variance\")"
   ]
  },
  {
   "cell_type": "code",
   "execution_count": null,
   "id": "34703450-e3e5-43ee-b3d0-6e910f603db7",
   "metadata": {},
   "outputs": [],
   "source": [
    "# Check how many genes we are left with\n",
    "print(len(df_by_var.index))"
   ]
  },
  {
   "cell_type": "code",
   "execution_count": null,
   "id": "5fefe0f6-3bd9-4e5f-ab20-6074662990e0",
   "metadata": {},
   "outputs": [],
   "source": [
    "# Write df_by_var to tsv file\n",
    "df_by_var.to_csv(\"results/top_90_var_genes.tsv\", sep=\"\\t\")"
   ]
  },
  {
   "cell_type": "code",
   "execution_count": null,
   "id": "173140e4-35fa-4933-a13d-9b158ac0ebd0",
   "metadata": {},
   "outputs": [],
   "source": [
    "# Recode refinebio_title variable into something more useful\n",
    "# Split wherever there is a '-' or '.'\n",
    "exp_group = metadata[\"refinebio_title\"].str.split(\"-|\\\\.\", expand=True, n=1)"
   ]
  },
  {
   "cell_type": "code",
   "execution_count": null,
   "id": "53b24d0d-e00c-48ee-8905-37f30d12efa8",
   "metadata": {},
   "outputs": [],
   "source": [
    "# Now we'll store that first column from the string split back in the metadata as a column\n",
    "metadata[\"exp_group\"] = exp_group[0]"
   ]
  },
  {
   "cell_type": "code",
   "execution_count": null,
   "id": "27e3e955-0eda-4bf7-98fe-bf5546e0d303",
   "metadata": {},
   "outputs": [],
   "source": [
    "# Print to check\n",
    "print(metadata[\"exp_group\"])"
   ]
  },
  {
   "cell_type": "code",
   "execution_count": null,
   "id": "eb98c49c-9e4d-4ea0-a50e-632b57bef10e",
   "metadata": {},
   "outputs": [],
   "source": [
    "# Color code our two variables\n",
    "refinebio_treatment_colors = color_key.make_color_key(metadata[\"refinebio_treatment\"])\n",
    "exp_groups_colors = color_key.make_color_key(metadata[\"exp_group\"])"
   ]
  },
  {
   "cell_type": "code",
   "execution_count": null,
   "id": "c79dd2bd-d165-44d8-ae74-37defa15874a",
   "metadata": {},
   "outputs": [],
   "source": [
    "color_key_df = pd.concat(\n",
    "    [refinebio_treatment_colors[\"color_key\"], exp_groups_colors[\"color_key\"]],\n",
    "    axis=1,\n",
    "    names=[\"treatment\", \"exp_group\"],\n",
    ")\n",
    "\n",
    "color_key_df = color_key_df.set_index(df_by_var.columns)"
   ]
  },
  {
   "cell_type": "code",
   "execution_count": null,
   "id": "ea4ae27f-9a8b-42b9-93f0-84aab3b5ab4a",
   "metadata": {},
   "outputs": [],
   "source": [
    "# Check that this is what we think it is\n",
    "color_key_df"
   ]
  },
  {
   "cell_type": "code",
   "execution_count": null,
   "id": "f36c89b1-b269-4fb9-9174-abc3d3996d56",
   "metadata": {},
   "outputs": [],
   "source": [
    "heatmap = sns.clustermap(\n",
    "    df_by_var,\n",
    "    cmap=\"mako\",\n",
    "    col_colors=color_key_df,\n",
    "    dendrogram_ratio=(0, 0.2),\n",
    "    cbar_pos=(-0.1, 0.2, 0.03, 0.5),\n",
    ")\n",
    "\n",
    "legend1 = color_key.make_legend(exp_groups_colors[\"color_key_dict\"])\n",
    "legend2 = color_key.make_legend(refinebio_treatment_colors[\"color_key_dict\"])\n",
    "\n",
    "# Make a legend 1\n",
    "plt.legend(\n",
    "    legend1,\n",
    "    exp_groups_colors[\"color_key_dict\"],\n",
    "    title=\"Experiment \\nGroup\",\n",
    "    bbox_to_anchor=(4, 1.3),\n",
    ")\n",
    "\n",
    "# Make a legend 2\n",
    "heatmap.ax_row_dendrogram.legend(\n",
    "    legend2,\n",
    "    refinebio_treatment_colors[\"color_key_dict\"],\n",
    "    title=\"Treatment\",\n",
    "    bbox_to_anchor=(0, 1.37),\n",
    ")\n",
    "\n",
    "plt.show()"
   ]
  },
  {
   "cell_type": "code",
   "execution_count": null,
   "id": "2237b13d-014c-442b-9a12-983f6a250dfd",
   "metadata": {},
   "outputs": [],
   "source": [
    "# Save to png\n",
    "heatmap.savefig(os.path.join(\"plots\", \"aml_heatmap.png\"))"
   ]
  },
  {
   "cell_type": "code",
   "execution_count": null,
   "id": "564c9c7a-a917-4b67-82d2-3e60b7d39b6b",
   "metadata": {},
   "outputs": [],
   "source": [
    "session_info.show()"
   ]
  },
  {
   "cell_type": "code",
   "execution_count": null,
   "id": "fa150f85-1a89-4657-a5a6-017d68449ce7",
   "metadata": {},
   "outputs": [],
   "source": []
  }
 ],
 "metadata": {
  "kernelspec": {
   "display_name": "Python 3 (ipykernel)",
   "language": "python",
   "name": "python3"
  },
  "language_info": {
   "codemirror_mode": {
    "name": "ipython",
    "version": 3
   },
   "file_extension": ".py",
   "mimetype": "text/x-python",
   "name": "python",
   "nbconvert_exporter": "python",
   "pygments_lexer": "ipython3",
   "version": "3.12.4"
  }
 },
 "nbformat": 4,
 "nbformat_minor": 5
}
